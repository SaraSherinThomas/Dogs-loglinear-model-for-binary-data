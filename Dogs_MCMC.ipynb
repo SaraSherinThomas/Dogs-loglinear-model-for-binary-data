{
 "cells": [
  {
   "cell_type": "code",
   "execution_count": 1,
   "metadata": {
    "collapsed": true
   },
   "outputs": [],
   "source": [
    "import numpy as np\n",
    "from numpy import cumsum\n",
    "\n",
    "num_dogs = 30\n",
    "num_trails = 25\n"
   ]
  },
  {
   "cell_type": "code",
   "execution_count": 2,
   "metadata": {
    "collapsed": false
   },
   "outputs": [
    {
     "name": "stdout",
     "output_type": "stream",
     "text": [
      "[  0.   0.   0.   1.   1.   2.   2.   3.   4.   5.   6.   7.   8.   9.  10.\n",
      "  11.  12.  13.  14.  15.  16.  17.  18.  19.  20.]\n"
     ]
    }
   ],
   "source": [
    "y = np.loadtxt('data.txt')\n",
    "y_failure = 1 - y\n",
    "\n",
    "xa = cumsum(y,axis=1) - y\n",
    "xs = cumsum(y_failure,axis=1) - y_failure\n",
    "print xa[0]"
   ]
  },
  {
   "cell_type": "code",
   "execution_count": 3,
   "metadata": {
    "collapsed": false
   },
   "outputs": [],
   "source": [
    "alpha = -1\n",
    "beta = -1\n"
   ]
  },
  {
   "cell_type": "code",
   "execution_count": 4,
   "metadata": {
    "collapsed": false
   },
   "outputs": [],
   "source": [
    "from scipy.stats import expon\n",
    "from scipy.stats import norm\n",
    "def likelihood(alpha,beta,data):\n",
    "    p_log = np.zeros((30, 25), dtype=np.float64)\n",
    "    p = np.zeros((30, 25), dtype=np.float64)\n",
    "    p_log = alpha * xa + beta * xs\n",
    "    p = np.exp(p_log)\n",
    "   \n",
    "    prob = np.zeros((30, 25), dtype=np.float64)\n",
    "    for d in range(30):\n",
    "        for t in range(25):\n",
    "            if data[d][t] == 0: \n",
    "                prob[d][t] = p[d][t]\n",
    "            else:\n",
    "                prob[d][t] = 1 - p[d][t]\n",
    "\n",
    "    likelihood = prob.prod()\n",
    "    \n",
    "    return likelihood\n",
    "    \n",
    "\n",
    "def prior(alpha,beta):\n",
    "    alpha_prior = norm.pdf(alpha)\n",
    "    beta_prior = norm.pdf(beta)\n",
    "    \n",
    "    return alpha_prior*beta_prior\n",
    "\n",
    "def proposal_prob(alpha,beta):\n",
    "    alpha_prior = norm.pdf(alpha,scale=0.27)\n",
    "    beta_prior = norm.pdf(beta,scale=0.27)\n",
    "    \n",
    "    return alpha_prior*beta_prior\n",
    "\n",
    "def target_rel_prob(alpha,beta, data):\n",
    "    \n",
    "    target_rel_prob = likelihood(alpha,beta,data) * prior(alpha,beta)\n",
    "   \n",
    "    return target_rel_prob\n",
    "\n"
   ]
  },
  {
   "cell_type": "code",
   "execution_count": null,
   "metadata": {
    "collapsed": false
   },
   "outputs": [],
   "source": [
    "\n"
   ]
  },
  {
   "cell_type": "code",
   "execution_count": null,
   "metadata": {
    "collapsed": false
   },
   "outputs": [],
   "source": []
  },
  {
   "cell_type": "code",
   "execution_count": 5,
   "metadata": {
    "collapsed": false
   },
   "outputs": [
    {
     "name": "stderr",
     "output_type": "stream",
     "text": [
      "/usr/local/lib/python2.7/dist-packages/ipykernel/__main__.py:38: RuntimeWarning: invalid value encountered in double_scalars\n",
      "/usr/local/lib/python2.7/dist-packages/ipykernel/__main__.py:38: RuntimeWarning: divide by zero encountered in double_scalars\n"
     ]
    },
    {
     "name": "stdout",
     "output_type": "stream",
     "text": [
      "accepted 52\n",
      "9948\n"
     ]
    }
   ],
   "source": [
    "#MCMC\n",
    "traj_length = 10000 # arbitrary large number\n",
    "# Initialize the vector that will store the results:\n",
    "\n",
    "# Specify where to start the trajectory:\n",
    "posterior_alpha = [alpha] # arbitrary value\n",
    "posterior_beta = [beta]\n",
    "#posterior = [target_rel_prob(alpha,beta,y_failure)]\n",
    "# Specify the burn-in period:\n",
    "burn_in = 100 # arbitrary number, less than traj_length\n",
    "burn_in = int(burn_in)\n",
    "\n",
    "# Initialize accepted, rejected counters, just to monitor performance:\n",
    "n_accepted = 0\n",
    "n_rejected = 0\n",
    "# Specify seed to reproduce same random walk:\n",
    "np.random.seed(4745)\n",
    "data = y\n",
    "\n",
    "\n",
    "current_alpha = alpha\n",
    "current_beta = beta\n",
    "#current_posterior = target_rel_prob(alpha,beta,y_failure)\n",
    "for t in range(traj_length):\n",
    "    while True:\n",
    "        proposed_jump_alpha = norm.rvs(current_alpha,scale=0.5)\n",
    "        if proposed_jump_alpha<-0.00001:\n",
    "            break;\n",
    "    while True:\n",
    "        proposed_jump_beta = norm.rvs(current_beta,scale=0.5)\n",
    "        if proposed_jump_beta<-0.00001:\n",
    "            break;\n",
    "    \n",
    "    #prob_accept = np.minimum(1,(target_rel_prob(proposed_jump_alpha,proposed_jump_beta,data)*proposal_prob(current_alpha,current_beta))/\n",
    "    #                        (target_rel_prob(current_alpha,current_beta,data)*proposal_prob(proposed_jump_alpha,proposed_jump_beta)))\n",
    "      \n",
    "    prob_accept = np.minimum(1,(target_rel_prob(proposed_jump_alpha,proposed_jump_beta,data))/\n",
    "                            (target_rel_prob(current_alpha,current_beta,data)))  \n",
    "        # increment the accepted counter, just to monitor performance\n",
    "    if t > burn_in:\n",
    "        \n",
    "        if np.random.rand() <= prob_accept:\n",
    "            \n",
    "            n_accepted += 1\n",
    "            posterior_alpha.append(proposed_jump_alpha)\n",
    "            posterior_beta.append(proposed_jump_beta)\n",
    "           \n",
    "            current_alpha = proposed_jump_alpha\n",
    "            current_beta = proposed_jump_beta\n",
    "          \n",
    "        else:\n",
    "            n_rejected += 1\n",
    "            posterior_alpha.append(current_alpha)\n",
    "            posterior_beta.append(current_alpha)\n",
    "           \n",
    "    else:\n",
    "            n_rejected += 1\n",
    "\n",
    "print 'accepted',n_accepted\n",
    "print n_rejected"
   ]
  },
  {
   "cell_type": "code",
   "execution_count": 6,
   "metadata": {
    "collapsed": false
   },
   "outputs": [],
   "source": [
    "# Extract the post-burn_in portion of the trajectory.\n",
    "accepted_traj = np.column_stack((posterior_alpha,posterior_beta))\n",
    "# End of Metropolis algorithm.\n",
    "avg_alpha=0 \n",
    "avg_beta=0 \n",
    "for i in range(len(posterior_alpha)):\n",
    "    avg_alpha = avg_alpha+posterior_alpha[i]\n",
    "    avg_beta = avg_beta+posterior_beta[i]\n",
    "alpha_mean = avg_alpha/(len(posterior_alpha))\n",
    "beta_mean = avg_beta/(len(posterior_beta))\n"
   ]
  },
  {
   "cell_type": "code",
   "execution_count": 16,
   "metadata": {
    "collapsed": false
   },
   "outputs": [
    {
     "name": "stdout",
     "output_type": "stream",
     "text": [
      "0.00245735132818\n",
      "Dog avoids shock in the next trial\n",
      "alpha mean =  -0.251300720123\n",
      "beta mean =  -0.250321659862\n"
     ]
    }
   ],
   "source": [
    "\n",
    "x_shock=8;\n",
    "x_avoidance=17;\n",
    "\n",
    "sum_prob=0\n",
    "for j in range(len(posterior_alpha)):\n",
    "    log_p = (posterior_alpha[j] * x_avoidance + posterior_beta[j] * x_shock)\n",
    "    prob_shock = np.exp(log_p)\n",
    "    sum_prob = sum_prob + prob_shock\n",
    "sum_prob = sum_prob/len(posterior_alpha)    \n",
    "print sum_prob\n",
    "if(sum_prob>0.5):\n",
    "    print 'Dog gets a shock in the next trial'\n",
    "        \n",
    "else:\n",
    "     print 'Dog avoids shock in the next trial'\n",
    "print 'alpha mean = ',alpha_mean\n",
    "print 'beta mean = ',beta_mean"
   ]
  },
  {
   "cell_type": "code",
   "execution_count": null,
   "metadata": {
    "collapsed": true
   },
   "outputs": [],
   "source": []
  },
  {
   "cell_type": "code",
   "execution_count": null,
   "metadata": {
    "collapsed": true
   },
   "outputs": [],
   "source": []
  },
  {
   "cell_type": "code",
   "execution_count": null,
   "metadata": {
    "collapsed": true
   },
   "outputs": [],
   "source": []
  },
  {
   "cell_type": "code",
   "execution_count": null,
   "metadata": {
    "collapsed": true
   },
   "outputs": [],
   "source": []
  },
  {
   "cell_type": "code",
   "execution_count": null,
   "metadata": {
    "collapsed": true
   },
   "outputs": [],
   "source": []
  }
 ],
 "metadata": {
  "kernelspec": {
   "display_name": "Python 2",
   "language": "python",
   "name": "python2"
  },
  "language_info": {
   "codemirror_mode": {
    "name": "ipython",
    "version": 2
   },
   "file_extension": ".py",
   "mimetype": "text/x-python",
   "name": "python",
   "nbconvert_exporter": "python",
   "pygments_lexer": "ipython2",
   "version": "2.7.12"
  }
 },
 "nbformat": 4,
 "nbformat_minor": 2
}
